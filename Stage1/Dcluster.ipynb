{
 "cells": [
  {
   "cell_type": "code",
   "execution_count": 1,
   "metadata": {
    "tags": []
   },
   "outputs": [
    {
     "name": "stderr",
     "output_type": "stream",
     "text": [
      "/root/miniconda3/envs/myconda/lib/python3.10/site-packages/scipy/__init__.py:132: UserWarning: A NumPy version >=1.21.6 and <1.28.0 is required for this version of SciPy (detected version 1.21.0)\n",
      "  warnings.warn(f\"A NumPy version >={np_minversion} and <{np_maxversion}\"\n"
     ]
    },
    {
     "name": "stdout",
     "output_type": "stream",
     "text": [
      "Loading datasets...\n",
      "Finished loading datasets\n"
     ]
    },
    {
     "name": "stderr",
     "output_type": "stream",
     "text": [
      "/tmp/ipykernel_319/1412335057.py:45: FutureWarning: You are using `torch.load` with `weights_only=False` (the current default value), which uses the default pickle module implicitly. It is possible to construct malicious pickle data which will execute arbitrary code during unpickling (See https://github.com/pytorch/pytorch/blob/main/SECURITY.md#untrusted-models for more details). In a future release, the default value for `weights_only` will be flipped to `True`. This limits the functions that could be executed during unpickling. Arbitrary objects will no longer be allowed to be loaded via this mode unless they are explicitly allowlisted by the user via `torch.serialization.add_safe_globals`. We recommend you start setting `weights_only=True` for any use case where you don't have full control of the loaded file. Please open an issue on GitHub for any issues related to this experimental feature.\n",
      "  state_dict = torch.load(\"pretrained_resnet18.pth\")\n"
     ]
    },
    {
     "name": "stdout",
     "output_type": "stream",
     "text": [
      "Start training...\n",
      "Epoch 1/10\n",
      "Start computing features...\n",
      "Finish computing features!\n"
     ]
    },
    {
     "name": "stderr",
     "output_type": "stream",
     "text": [
      "100%|██████████| 123/123 [07:32<00:00,  3.68s/it]\n"
     ]
    },
    {
     "name": "stdout",
     "output_type": "stream",
     "text": [
      "Loss: 1.6764\n",
      "Epoch 2/10\n",
      "Start computing features...\n",
      "Finish computing features!\n"
     ]
    },
    {
     "name": "stderr",
     "output_type": "stream",
     "text": [
      "100%|██████████| 123/123 [08:16<00:00,  4.04s/it]\n"
     ]
    },
    {
     "name": "stdout",
     "output_type": "stream",
     "text": [
      "Loss: 1.5588\n",
      "Epoch 3/10\n",
      "Start computing features...\n",
      "Finish computing features!\n"
     ]
    },
    {
     "name": "stderr",
     "output_type": "stream",
     "text": [
      "100%|██████████| 123/123 [07:55<00:00,  3.87s/it]\n"
     ]
    },
    {
     "name": "stdout",
     "output_type": "stream",
     "text": [
      "Loss: 1.3668\n",
      "Epoch 4/10\n",
      "Start computing features...\n",
      "Finish computing features!\n"
     ]
    },
    {
     "name": "stderr",
     "output_type": "stream",
     "text": [
      "100%|██████████| 123/123 [07:41<00:00,  3.75s/it]\n"
     ]
    },
    {
     "name": "stdout",
     "output_type": "stream",
     "text": [
      "Loss: 1.3633\n",
      "Epoch 5/10\n",
      "Start computing features...\n",
      "Finish computing features!\n"
     ]
    },
    {
     "name": "stderr",
     "output_type": "stream",
     "text": [
      "100%|██████████| 123/123 [07:50<00:00,  3.83s/it]\n"
     ]
    },
    {
     "name": "stdout",
     "output_type": "stream",
     "text": [
      "Loss: 1.3310\n",
      "Epoch 6/10\n",
      "Start computing features...\n",
      "Finish computing features!\n"
     ]
    },
    {
     "name": "stderr",
     "output_type": "stream",
     "text": [
      "100%|██████████| 123/123 [07:49<00:00,  3.81s/it]\n"
     ]
    },
    {
     "name": "stdout",
     "output_type": "stream",
     "text": [
      "Loss: 1.2667\n",
      "Epoch 7/10\n",
      "Start computing features...\n",
      "Finish computing features!\n"
     ]
    },
    {
     "name": "stderr",
     "output_type": "stream",
     "text": [
      "100%|██████████| 123/123 [08:03<00:00,  3.93s/it]\n"
     ]
    },
    {
     "name": "stdout",
     "output_type": "stream",
     "text": [
      "Loss: 1.2049\n",
      "Epoch 8/10\n",
      "Start computing features...\n",
      "Finish computing features!\n"
     ]
    },
    {
     "name": "stderr",
     "output_type": "stream",
     "text": [
      "100%|██████████| 123/123 [07:18<00:00,  3.56s/it]\n"
     ]
    },
    {
     "name": "stdout",
     "output_type": "stream",
     "text": [
      "Loss: 1.3005\n",
      "Epoch 9/10\n",
      "Start computing features...\n",
      "Finish computing features!\n"
     ]
    },
    {
     "name": "stderr",
     "output_type": "stream",
     "text": [
      "100%|██████████| 123/123 [07:41<00:00,  3.76s/it]\n"
     ]
    },
    {
     "name": "stdout",
     "output_type": "stream",
     "text": [
      "Loss: 1.1763\n",
      "Epoch 10/10\n",
      "Start computing features...\n",
      "Finish computing features!\n"
     ]
    },
    {
     "name": "stderr",
     "output_type": "stream",
     "text": [
      "100%|██████████| 123/123 [08:05<00:00,  3.95s/it]\n"
     ]
    },
    {
     "name": "stdout",
     "output_type": "stream",
     "text": [
      "Loss: 1.1536\n",
      "Finish training!\n",
      "Loading trained model...\n",
      "Start computing features...\n",
      "Finish computing features!\n",
      "Start optimizing cluster number...\n",
      "Testing k=3...\n"
     ]
    },
    {
     "name": "stderr",
     "output_type": "stream",
     "text": [
      "/root/miniconda3/envs/myconda/lib/python3.10/site-packages/sklearn/cluster/_kmeans.py:1412: FutureWarning: The default value of `n_init` will change from 10 to 'auto' in 1.4. Set the value of `n_init` explicitly to suppress the warning\n",
      "  super()._check_params_vs_input(X, default_n_init=10)\n"
     ]
    },
    {
     "name": "stdout",
     "output_type": "stream",
     "text": [
      "silhouette score for k=3: 0.26088669896125793\n",
      "Testing k=4...\n"
     ]
    },
    {
     "name": "stderr",
     "output_type": "stream",
     "text": [
      "/root/miniconda3/envs/myconda/lib/python3.10/site-packages/sklearn/cluster/_kmeans.py:1412: FutureWarning: The default value of `n_init` will change from 10 to 'auto' in 1.4. Set the value of `n_init` explicitly to suppress the warning\n",
      "  super()._check_params_vs_input(X, default_n_init=10)\n"
     ]
    },
    {
     "name": "stdout",
     "output_type": "stream",
     "text": [
      "silhouette score for k=4: 0.30297863483428955\n",
      "Testing k=5...\n"
     ]
    },
    {
     "name": "stderr",
     "output_type": "stream",
     "text": [
      "/root/miniconda3/envs/myconda/lib/python3.10/site-packages/sklearn/cluster/_kmeans.py:1412: FutureWarning: The default value of `n_init` will change from 10 to 'auto' in 1.4. Set the value of `n_init` explicitly to suppress the warning\n",
      "  super()._check_params_vs_input(X, default_n_init=10)\n"
     ]
    },
    {
     "name": "stdout",
     "output_type": "stream",
     "text": [
      "silhouette score for k=5: 0.31838294863700867\n",
      "Testing k=6...\n"
     ]
    },
    {
     "name": "stderr",
     "output_type": "stream",
     "text": [
      "/root/miniconda3/envs/myconda/lib/python3.10/site-packages/sklearn/cluster/_kmeans.py:1412: FutureWarning: The default value of `n_init` will change from 10 to 'auto' in 1.4. Set the value of `n_init` explicitly to suppress the warning\n",
      "  super()._check_params_vs_input(X, default_n_init=10)\n"
     ]
    },
    {
     "name": "stdout",
     "output_type": "stream",
     "text": [
      "silhouette score for k=6: 0.34452369809150696\n",
      "Testing k=7...\n"
     ]
    },
    {
     "name": "stderr",
     "output_type": "stream",
     "text": [
      "/root/miniconda3/envs/myconda/lib/python3.10/site-packages/sklearn/cluster/_kmeans.py:1412: FutureWarning: The default value of `n_init` will change from 10 to 'auto' in 1.4. Set the value of `n_init` explicitly to suppress the warning\n",
      "  super()._check_params_vs_input(X, default_n_init=10)\n"
     ]
    },
    {
     "name": "stdout",
     "output_type": "stream",
     "text": [
      "silhouette score for k=7: 0.3673427999019623\n",
      "Testing k=8...\n"
     ]
    },
    {
     "name": "stderr",
     "output_type": "stream",
     "text": [
      "/root/miniconda3/envs/myconda/lib/python3.10/site-packages/sklearn/cluster/_kmeans.py:1412: FutureWarning: The default value of `n_init` will change from 10 to 'auto' in 1.4. Set the value of `n_init` explicitly to suppress the warning\n",
      "  super()._check_params_vs_input(X, default_n_init=10)\n"
     ]
    },
    {
     "name": "stdout",
     "output_type": "stream",
     "text": [
      "silhouette score for k=8: 0.385699063539505\n",
      "Testing k=9...\n"
     ]
    },
    {
     "name": "stderr",
     "output_type": "stream",
     "text": [
      "/root/miniconda3/envs/myconda/lib/python3.10/site-packages/sklearn/cluster/_kmeans.py:1412: FutureWarning: The default value of `n_init` will change from 10 to 'auto' in 1.4. Set the value of `n_init` explicitly to suppress the warning\n",
      "  super()._check_params_vs_input(X, default_n_init=10)\n"
     ]
    },
    {
     "name": "stdout",
     "output_type": "stream",
     "text": [
      "silhouette score for k=9: 0.38128748536109924\n",
      "Testing k=10...\n"
     ]
    },
    {
     "name": "stderr",
     "output_type": "stream",
     "text": [
      "/root/miniconda3/envs/myconda/lib/python3.10/site-packages/sklearn/cluster/_kmeans.py:1412: FutureWarning: The default value of `n_init` will change from 10 to 'auto' in 1.4. Set the value of `n_init` explicitly to suppress the warning\n",
      "  super()._check_params_vs_input(X, default_n_init=10)\n"
     ]
    },
    {
     "name": "stdout",
     "output_type": "stream",
     "text": [
      "silhouette score for k=10: 0.3758222460746765\n",
      "Testing k=11...\n"
     ]
    },
    {
     "name": "stderr",
     "output_type": "stream",
     "text": [
      "/root/miniconda3/envs/myconda/lib/python3.10/site-packages/sklearn/cluster/_kmeans.py:1412: FutureWarning: The default value of `n_init` will change from 10 to 'auto' in 1.4. Set the value of `n_init` explicitly to suppress the warning\n",
      "  super()._check_params_vs_input(X, default_n_init=10)\n"
     ]
    },
    {
     "name": "stdout",
     "output_type": "stream",
     "text": [
      "silhouette score for k=11: 0.3715251684188843\n",
      "Testing k=12...\n"
     ]
    },
    {
     "name": "stderr",
     "output_type": "stream",
     "text": [
      "/root/miniconda3/envs/myconda/lib/python3.10/site-packages/sklearn/cluster/_kmeans.py:1412: FutureWarning: The default value of `n_init` will change from 10 to 'auto' in 1.4. Set the value of `n_init` explicitly to suppress the warning\n",
      "  super()._check_params_vs_input(X, default_n_init=10)\n"
     ]
    },
    {
     "name": "stdout",
     "output_type": "stream",
     "text": [
      "silhouette score for k=12: 0.37781214714050293\n",
      "Testing k=13...\n"
     ]
    },
    {
     "name": "stderr",
     "output_type": "stream",
     "text": [
      "/root/miniconda3/envs/myconda/lib/python3.10/site-packages/sklearn/cluster/_kmeans.py:1412: FutureWarning: The default value of `n_init` will change from 10 to 'auto' in 1.4. Set the value of `n_init` explicitly to suppress the warning\n",
      "  super()._check_params_vs_input(X, default_n_init=10)\n"
     ]
    },
    {
     "name": "stdout",
     "output_type": "stream",
     "text": [
      "silhouette score for k=13: 0.3685828149318695\n",
      "Testing k=14...\n"
     ]
    },
    {
     "name": "stderr",
     "output_type": "stream",
     "text": [
      "/root/miniconda3/envs/myconda/lib/python3.10/site-packages/sklearn/cluster/_kmeans.py:1412: FutureWarning: The default value of `n_init` will change from 10 to 'auto' in 1.4. Set the value of `n_init` explicitly to suppress the warning\n",
      "  super()._check_params_vs_input(X, default_n_init=10)\n"
     ]
    },
    {
     "name": "stdout",
     "output_type": "stream",
     "text": [
      "silhouette score for k=14: 0.36701828241348267\n",
      "Testing k=15...\n"
     ]
    },
    {
     "name": "stderr",
     "output_type": "stream",
     "text": [
      "/root/miniconda3/envs/myconda/lib/python3.10/site-packages/sklearn/cluster/_kmeans.py:1412: FutureWarning: The default value of `n_init` will change from 10 to 'auto' in 1.4. Set the value of `n_init` explicitly to suppress the warning\n",
      "  super()._check_params_vs_input(X, default_n_init=10)\n"
     ]
    },
    {
     "name": "stdout",
     "output_type": "stream",
     "text": [
      "silhouette score for k=15: 0.35670366883277893\n",
      "Testing k=16...\n"
     ]
    },
    {
     "name": "stderr",
     "output_type": "stream",
     "text": [
      "/root/miniconda3/envs/myconda/lib/python3.10/site-packages/sklearn/cluster/_kmeans.py:1412: FutureWarning: The default value of `n_init` will change from 10 to 'auto' in 1.4. Set the value of `n_init` explicitly to suppress the warning\n",
      "  super()._check_params_vs_input(X, default_n_init=10)\n"
     ]
    },
    {
     "name": "stdout",
     "output_type": "stream",
     "text": [
      "silhouette score for k=16: 0.36327508091926575\n",
      "Testing k=17...\n"
     ]
    },
    {
     "name": "stderr",
     "output_type": "stream",
     "text": [
      "/root/miniconda3/envs/myconda/lib/python3.10/site-packages/sklearn/cluster/_kmeans.py:1412: FutureWarning: The default value of `n_init` will change from 10 to 'auto' in 1.4. Set the value of `n_init` explicitly to suppress the warning\n",
      "  super()._check_params_vs_input(X, default_n_init=10)\n"
     ]
    },
    {
     "name": "stdout",
     "output_type": "stream",
     "text": [
      "silhouette score for k=17: 0.3667709231376648\n",
      "Testing k=18...\n"
     ]
    },
    {
     "name": "stderr",
     "output_type": "stream",
     "text": [
      "/root/miniconda3/envs/myconda/lib/python3.10/site-packages/sklearn/cluster/_kmeans.py:1412: FutureWarning: The default value of `n_init` will change from 10 to 'auto' in 1.4. Set the value of `n_init` explicitly to suppress the warning\n",
      "  super()._check_params_vs_input(X, default_n_init=10)\n"
     ]
    },
    {
     "name": "stdout",
     "output_type": "stream",
     "text": [
      "silhouette score for k=18: 0.3565512001514435\n",
      "Testing k=19...\n"
     ]
    },
    {
     "name": "stderr",
     "output_type": "stream",
     "text": [
      "/root/miniconda3/envs/myconda/lib/python3.10/site-packages/sklearn/cluster/_kmeans.py:1412: FutureWarning: The default value of `n_init` will change from 10 to 'auto' in 1.4. Set the value of `n_init` explicitly to suppress the warning\n",
      "  super()._check_params_vs_input(X, default_n_init=10)\n"
     ]
    },
    {
     "name": "stdout",
     "output_type": "stream",
     "text": [
      "silhouette score for k=19: 0.37154677510261536\n",
      "Testing k=20...\n"
     ]
    },
    {
     "name": "stderr",
     "output_type": "stream",
     "text": [
      "/root/miniconda3/envs/myconda/lib/python3.10/site-packages/sklearn/cluster/_kmeans.py:1412: FutureWarning: The default value of `n_init` will change from 10 to 'auto' in 1.4. Set the value of `n_init` explicitly to suppress the warning\n",
      "  super()._check_params_vs_input(X, default_n_init=10)\n"
     ]
    },
    {
     "name": "stdout",
     "output_type": "stream",
     "text": [
      "silhouette score for k=20: 0.3678586483001709\n",
      "optimal cluster number: 8\n"
     ]
    },
    {
     "name": "stderr",
     "output_type": "stream",
     "text": [
      "/root/miniconda3/envs/myconda/lib/python3.10/site-packages/sklearn/cluster/_kmeans.py:1412: FutureWarning: The default value of `n_init` will change from 10 to 'auto' in 1.4. Set the value of `n_init` explicitly to suppress the warning\n",
      "  super()._check_params_vs_input(X, default_n_init=10)\n"
     ]
    },
    {
     "name": "stdout",
     "output_type": "stream",
     "text": [
      "cluster results saved in Mountain_cluster_results\n"
     ]
    }
   ],
   "source": [
    "import torch\n",
    "import torch.nn as nn\n",
    "import torch.optim as optim\n",
    "from torch.utils.data import Dataset, DataLoader\n",
    "from torchvision import transforms, models\n",
    "from torchvision.models import ResNet18_Weights\n",
    "from sklearn.cluster import KMeans\n",
    "from sklearn.metrics import silhouette_score\n",
    "import os\n",
    "import numpy as np\n",
    "from PIL import Image\n",
    "import shutil\n",
    "import matplotlib.pyplot as plt\n",
    "from tqdm import tqdm\n",
    "\n",
    "class SatelliteDataset(Dataset):\n",
    "    def __init__(self, root_dir, transform=None):\n",
    "        self.root_dir = root_dir\n",
    "        self.transform = transform\n",
    "        self.images = [f for f in os.listdir(root_dir) if f.endswith(('.jpg', '.png', '.jpeg'))]\n",
    "        \n",
    "    def __len__(self):\n",
    "        return len(self.images)\n",
    "    \n",
    "    def __getitem__(self, idx):\n",
    "        img_name = os.path.join(self.root_dir, self.images[idx])\n",
    "        image = Image.open(img_name).convert('RGB')\n",
    "        \n",
    "        if self.transform:\n",
    "            image = self.transform(image)\n",
    "            \n",
    "        return image, idx\n",
    "    \n",
    "class CNN(nn.Module):\n",
    "    def __init__(self, feature_dim, num_clusters, pretrained=True, freeze_conv=True):\n",
    "        super(CNN, self).__init__()\n",
    "        self.feature_dim = feature_dim\n",
    "        self.num_clusters = num_clusters\n",
    "        \n",
    "        # 初始化一个空的ResNet18模型\n",
    "        resnet18 = models.resnet18(weights=None)\n",
    "        \n",
    "        if pretrained:\n",
    "            # 加载你的预训练模型\n",
    "            state_dict = torch.load(\"pretrained_resnet18.pth\")\n",
    "            # 移除原始模型中最后的全连接层的权重\n",
    "            state_dict = {k: v for k, v in state_dict.items() if not k.startswith('fc')}\n",
    "            # 加载修改后的权重到模型中\n",
    "            resnet18.load_state_dict(state_dict, strict=False)\n",
    "        \n",
    "        # 提取除最后全连接层外的所有层\n",
    "        self.features = nn.Sequential(*list(resnet18.children())[:-1])\n",
    "\n",
    "        if freeze_conv:\n",
    "            for param in self.features.parameters():\n",
    "                param.requires_grad = False\n",
    "\n",
    "        # 添加新的全连接层用于特征提取和聚类\n",
    "        self.fc = nn.Sequential(\n",
    "            nn.Linear(512, self.feature_dim),  # ResNet18的输出特征维度是512\n",
    "            nn.ReLU(inplace=True)\n",
    "        )\n",
    "        self.fc_cluster = nn.Linear(self.feature_dim, self.num_clusters)\n",
    "\n",
    "    def forward(self, x):\n",
    "        x = self.features(x)\n",
    "        x = torch.flatten(x, 1)\n",
    "        x = self.fc(x)\n",
    "        return x\n",
    "\n",
    "def compute_features(dataloader, model, num_samples, device):\n",
    "    \"\"\"\n",
    "        Use CNN model to extract high-level features in images\n",
    "        Every image in `dataloader` will be fed into `model` to extract features\n",
    "    \"\"\"\n",
    "    model.eval()\n",
    "    print(\"Start computing features...\")\n",
    "    features = torch.zeros(num_samples, model.feature_dim, device=device)\n",
    "    \n",
    "    with torch.no_grad():\n",
    "        for i, (images, _) in enumerate(dataloader):\n",
    "            batch_features = model(images.to(device))\n",
    "            features[i * dataloader.batch_size: min((i + 1) * dataloader.batch_size, num_samples)] = batch_features.cpu()\n",
    "            # 索引计算：i * dataloader.batch_size：计算当前批次在整个数据集中的起始索引。i 是当前的批次索引，dataloader.batch_size 是每个批次的大小。min((i + 1) * dataloader.batch_size, num_samples)：计算当前批次在整个数据集中的结束索引。(i + 1) * dataloader.batch_size 是下一个批次的起始索引，但不能超过数据集的总样本数 num_samples。\n",
    "            # 切片赋值：features[...]：这是一个切片操作，表示将 features 数组中从起始索引到结束索引的部分进行赋值。batch_features.cpu()：将当前批次的特征数据从GPU内存转移到CPU内存。.cpu() 方法将张量从GPU设备转移到CPU设备。\n",
    "            # 赋值操作：将 batch_features.cpu() 的结果赋值给 features 数组的相应部分。\n",
    "    print(\"Finish computing features!\")\n",
    "    return features.cpu().numpy()\n",
    "\n",
    "def optimize_cluster_number(features, k_range):\n",
    "    \"\"\"\n",
    "    Find optimal cluster number by silhouette score\n",
    "    Args:\n",
    "        features: 特征矩阵\n",
    "        k_range: 要尝试的k值范围\n",
    "    Returns:\n",
    "        optimal_k: 最优的聚类数\n",
    "        silhouette_scores: 不同k值对应的轮廓系数\n",
    "    \"\"\"\n",
    "    silhouette_scores = []\n",
    "    \n",
    "    print(\"Start optimizing cluster number...\")\n",
    "    for k in k_range:\n",
    "        print(f\"Testing k={k}...\")\n",
    "        kmeans = KMeans(n_clusters=k, random_state=42)\n",
    "        cluster_labels = kmeans.fit_predict(features)\n",
    "        \n",
    "        # 计算轮廓系数\n",
    "        score = silhouette_score(features, cluster_labels)\n",
    "        silhouette_scores.append(score)\n",
    "        print(f\"silhouette score for k={k}: {score}\")\n",
    "    \n",
    "    # 获取最优k值\n",
    "    optimal_k = k_range[np.argmax(silhouette_scores)]\n",
    "    \n",
    "    # 绘制轮廓系数与k的关系图\n",
    "    plt.figure(figsize=(10, 6))\n",
    "    plt.plot(k_range, silhouette_scores, 'bo-')\n",
    "    plt.xlabel('Cluster_nums (k)')\n",
    "    plt.xticks(k_range)\n",
    "    plt.ylabel('silhouette score')\n",
    "    plt.title('Inspecting the optimal cluster number for Mountain')\n",
    "    plt.grid(True)\n",
    "    plt.savefig('silhouette_scores_Mountain.png')\n",
    "    plt.close()\n",
    "    \n",
    "    return optimal_k, silhouette_scores\n",
    "\n",
    "def train_deep_cluster(dataset, clusterloader, trainloader,\n",
    "                       num_clusters=50, num_epochs=10, lr=0.0001):\n",
    "    # 可以改动num_clusters，如果聚类效果不好\n",
    "    device = torch.device(\"cuda\" if torch.cuda.is_available() else \"cpu\")\n",
    "    model = CNN(feature_dim=512, num_clusters=num_clusters, pretrained=True, freeze_conv=False).to(device)\n",
    "    criterion = nn.CrossEntropyLoss().to(device)\n",
    "    losses = []\n",
    "    print(\"Start training...\")\n",
    "    for epoch in range(num_epochs):\n",
    "        print(f\"Epoch {epoch + 1}/{num_epochs}\")\n",
    "\n",
    "        features = compute_features(clusterloader, model, len(dataset), device)     # features for all images\n",
    "        kmeans = KMeans(n_clusters=num_clusters, n_init=10).fit(features)           # cluster into 50 classes\n",
    "        cluster_labels = kmeans.labels_                                             # get clustered pseudo labels for all images in dataset (i.e. clusterloader)\n",
    "\n",
    "        fc_cluster = nn.Linear(model.feature_dim, num_clusters).to(device)          # model.feature_dim = 512\n",
    "        fc_cluster.weight.data.normal_(0, 0.01)\n",
    "        fc_cluster.bias.data.zero_()\n",
    "        optimizer = optim.Adam(model.parameters(), lr=lr)\n",
    "        \n",
    "        model.train()\n",
    "        running_loss = 0.0\n",
    "        \n",
    "        train_iter = tqdm(enumerate(trainloader), total=len(trainloader))\n",
    "        for i, (images, indices) in train_iter:\n",
    "            images, batch_labels = images.to(device), torch.tensor(cluster_labels[indices], dtype=torch.long).to(device)\n",
    "            features = model(images)                          # features for current batch, [batchsize, feature_dim]\n",
    "            # outputs = model.fc_cluster(features)            # cluster labels for current batch, [batchsize, num_clusters]\n",
    "            outputs = fc_cluster(features)\n",
    "            loss = criterion(outputs, batch_labels)       \n",
    "            optimizer.zero_grad()\n",
    "            loss.backward()\n",
    "            optimizer.step()\n",
    "            \n",
    "            running_loss += loss.item()\n",
    "        \n",
    "        epoch_loss = running_loss / len(trainloader)\n",
    "        print(f\"Loss: {epoch_loss:.4f}\")\n",
    "        losses.append(epoch_loss)\n",
    "        \n",
    "    print(\"Finish training!\")\n",
    "    torch.save(model.state_dict(), \"deep_cluster_Mountain.pth\")\n",
    "    \n",
    "if __name__ == \"__main__\":\n",
    "    root_dir = \"Classified_images/Mountain\"\n",
    "    cluster_dir = \"Mountain_cluster_results\"\n",
    "    if os.path.exists(cluster_dir):\n",
    "        shutil.rmtree(cluster_dir)\n",
    "    os.makedirs(cluster_dir)\n",
    "    \n",
    "    transform = transforms.Compose([\n",
    "        transforms.Resize((343, 343)),\n",
    "        transforms.ToTensor(),\n",
    "        transforms.Normalize(mean=[0.485, 0.456, 0.406], std=[0.229, 0.224, 0.225])\n",
    "    ])\n",
    "\n",
    "    print(\"Loading datasets...\")\n",
    "    dataset = SatelliteDataset(root_dir, transform=transform)\n",
    "    clusterloader = DataLoader(dataset, batch_size=128, shuffle=False)\n",
    "    trainloader = DataLoader(dataset, batch_size=128, shuffle=True)\n",
    "    print(\"Finished loading datasets\")\n",
    "\n",
    "    # if the model doesn't exists, starting training\n",
    "    if not os.path.exists(\"deep_cluster_Mountain.pth\"):\n",
    "        train_deep_cluster(dataset, clusterloader, trainloader, num_clusters=20)\n",
    "    \n",
    "    # load the model\n",
    "    print(\"Loading trained model...\")\n",
    "    device = torch.device(\"cuda\" if torch.cuda.is_available() else \"cpu\")\n",
    "    model = CNN(feature_dim=512, num_clusters=20, pretrained=False, freeze_conv=False).to(device)\n",
    "    model.load_state_dict(torch.load(\"deep_cluster_Mountain.pth\", weights_only=True))\n",
    "\n",
    "    # extract features\n",
    "    features = compute_features(clusterloader, model, len(dataset), device)\n",
    "    \n",
    "    # check optimal cluster number\n",
    "    k_range = range(3, 21)\n",
    "    optimal_k, silhouette_scores = optimize_cluster_number(features, k_range)\n",
    "    print(f\"optimal cluster number: {optimal_k}\")\n",
    "\n",
    "    # cluster all images into optimal cluster number\n",
    "    kmeans = KMeans(n_clusters=optimal_k).fit(features)\n",
    "    final_cluster_labels = kmeans.labels_\n",
    "\n",
    "    # save images to corresponding cluster folders\n",
    "    for i in range(optimal_k):\n",
    "        cluster_subdir = os.path.join(cluster_dir, f\"cluster_{i}\")\n",
    "        os.makedirs(cluster_subdir)\n",
    "\n",
    "    for idx, label in enumerate(final_cluster_labels):\n",
    "        img_name = dataset.images[idx]\n",
    "        src_path = os.path.join(root_dir, img_name)\n",
    "        dst_path = os.path.join(cluster_dir, f\"cluster_{label}\", img_name)\n",
    "        shutil.copy2(src_path, dst_path)\n",
    "\n",
    "    print(f\"cluster results saved in {cluster_dir}\")"
   ]
  }
 ],
 "metadata": {
  "kernelspec": {
   "display_name": "myconda",
   "language": "python",
   "name": "myconda"
  },
  "language_info": {
   "codemirror_mode": {
    "name": "ipython",
    "version": 3
   },
   "file_extension": ".py",
   "mimetype": "text/x-python",
   "name": "python",
   "nbconvert_exporter": "python",
   "pygments_lexer": "ipython3",
   "version": "3.10.12"
  }
 },
 "nbformat": 4,
 "nbformat_minor": 4
}
